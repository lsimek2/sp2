{
 "cells": [
  {
   "cell_type": "markdown",
   "id": "3341e9e8-44fb-4da0-95b9-8f50b9554553",
   "metadata": {},
   "source": [
    "https://www.pmf.unizg.hr/_download/repository/DZ1%5B1%5D.pdf\n",
    "# 1"
   ]
  },
  {
   "cell_type": "code",
   "execution_count": null,
   "id": "24f50bfb-ab2a-418d-8990-f62c6cf8ba08",
   "metadata": {},
   "outputs": [],
   "source": [
    "options(device='X11')"
   ]
  },
  {
   "cell_type": "code",
   "execution_count": 1,
   "id": "83830ac8-36ea-409d-a61e-4fd8ddfb8bcc",
   "metadata": {},
   "outputs": [],
   "source": [
    "x = rnorm(1000, 2, 3^.5)\n",
    "y = rnorm(1000, 3, 2)\n",
    "z = x/y"
   ]
  },
  {
   "cell_type": "code",
   "execution_count": 2,
   "id": "bf3b9b05-1902-4139-a77c-e165106edcaa",
   "metadata": {},
   "outputs": [],
   "source": [
    "xc = cumsum(x) / (1:1000)\n",
    "yc = cumsum(y) / (1:1000)\n",
    "zc = cumsum(z) / (1:1000)"
   ]
  },
  {
   "cell_type": "code",
   "execution_count": 8,
   "id": "f5739ae9-fdde-4d21-9c89-25cbe26f2c5a",
   "metadata": {},
   "outputs": [],
   "source": [
    "old.par <- par(mar = c(0, 0, 0, 0))\n",
    "par(old.par)"
   ]
  },
  {
   "cell_type": "code",
   "execution_count": 11,
   "id": "b655c857-5140-4faa-bb41-274f48944936",
   "metadata": {},
   "outputs": [
    {
     "data": {
      "text/html": [
       "<strong>null device:</strong> 1"
      ],
      "text/latex": [
       "\\textbf{null device:} 1"
      ],
      "text/markdown": [
       "**null device:** 1"
      ],
      "text/plain": [
       "null device \n",
       "          1 "
      ]
     },
     "metadata": {},
     "output_type": "display_data"
    },
    {
     "ename": "ERROR",
     "evalue": "Error in dev.set(dev): no active device and default getOption(\"device\") is invalid\n",
     "output_type": "error",
     "traceback": [
      "Error in dev.set(dev): no active device and default getOption(\"device\") is invalid\nTraceback:\n"
     ]
    }
   ],
   "source": [
    "dev.off()"
   ]
  },
  {
   "cell_type": "code",
   "execution_count": 3,
   "id": "33807142-6bce-481d-bee0-e4136124495c",
   "metadata": {},
   "outputs": [
    {
     "ename": "ERROR",
     "evalue": "Error in value[[3L]](cond): no active device and default getOption(\"device\") is invalid\n",
     "output_type": "error",
     "traceback": [
      "Error in value[[3L]](cond): no active device and default getOption(\"device\") is invalid\nTraceback:\n"
     ]
    },
    {
     "data": {
      "text/plain": [
       "plot without title"
      ]
     },
     "metadata": {
      "image/png": {
       "height": 420,
       "width": 420
      }
     },
     "output_type": "display_data"
    }
   ],
   "source": [
    "plot(1:1000, xc, 'l', col='blue')\n",
    "lines(1:1000, yc, col='red')\n",
    "lines(1:1000, zc, col='green')"
   ]
  },
  {
   "cell_type": "code",
   "execution_count": null,
   "id": "e2aae2df-3a33-4b61-a068-385bc0f4d2ef",
   "metadata": {},
   "outputs": [],
   "source": [
    "plot(1:1000, zc, 'l', col='green')"
   ]
  },
  {
   "cell_type": "markdown",
   "id": "63fb411e-7f16-4649-b7b1-5c5c00d2f8bc",
   "metadata": {},
   "source": [
    "Ocekujemo/vidimo stabilizaciju oko srednje vrijednosti zbog padajuće varijance.\n",
    "# 2"
   ]
  },
  {
   "cell_type": "code",
   "execution_count": null,
   "id": "21b71198-8564-466f-86f9-93cfe64c6f72",
   "metadata": {},
   "outputs": [],
   "source": [
    "y = rbeta(10000, 5, 1)\n",
    "x = -log(y)"
   ]
  },
  {
   "cell_type": "markdown",
   "id": "a62d3691-d873-4634-9166-8f1527eaf6be",
   "metadata": {},
   "source": [
    "## Funkcije gustoca"
   ]
  },
  {
   "cell_type": "code",
   "execution_count": null,
   "id": "f004bcef-783d-4f99-a2da-e9ae586a358b",
   "metadata": {},
   "outputs": [],
   "source": [
    "kd = density(x)\n",
    "plot(kd)\n",
    "\n",
    "xmin = kd$x[1]\n",
    "xmax = kd$x[length(kd$x)]\n",
    "xseq = seq(from=xmin, to=xmax, length.out=1000)\n",
    "lines(xseq, dexp(xseq, 1/mean(x)), col='red')"
   ]
  },
  {
   "cell_type": "markdown",
   "id": "e11234d2-8c2e-44f1-8365-a0010d708902",
   "metadata": {},
   "source": [
    "## Funkcije distribucija"
   ]
  },
  {
   "cell_type": "code",
   "execution_count": null,
   "id": "b4c90e15-d093-4214-9ad4-61f16fc1538e",
   "metadata": {},
   "outputs": [],
   "source": [
    "kd = density(x)\n",
    "plot(kd$x, cumsum(kd$y)/sum(kd$y), 'l')\n",
    "\n",
    "xmin = kd$x[1]\n",
    "xmax = kd$x[length(kd$x)]\n",
    "xseq = seq(from=xmin, to=xmax, length.out=1000)\n",
    "lines(xseq, pexp(xseq, 1/mean(x)), col='red')"
   ]
  },
  {
   "cell_type": "markdown",
   "id": "83668050-03db-412d-ba6f-b96dc3f4226f",
   "metadata": {},
   "source": [
    "## Statisticki test"
   ]
  },
  {
   "cell_type": "code",
   "execution_count": null,
   "id": "ec5de710-6724-4a21-8a6b-087bbee88344",
   "metadata": {},
   "outputs": [],
   "source": [
    "ks.test(x, pexp, 1/mean(x))"
   ]
  }
 ],
 "metadata": {
  "kernelspec": {
   "display_name": "R",
   "language": "R",
   "name": "ir"
  },
  "language_info": {
   "codemirror_mode": "r",
   "file_extension": ".r",
   "mimetype": "text/x-r-source",
   "name": "R",
   "pygments_lexer": "r",
   "version": "4.3.1"
  }
 },
 "nbformat": 4,
 "nbformat_minor": 5
}
