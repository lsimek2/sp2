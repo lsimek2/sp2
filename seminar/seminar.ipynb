{
 "cells": [
  {
   "cell_type": "markdown",
   "id": "252c7251-ae9a-46fb-90bb-2890c6a0cab1",
   "metadata": {},
   "source": [
    "# Linking writing processes to writing quality"
   ]
  },
  {
   "cell_type": "code",
   "execution_count": 20,
   "id": "709c8a2f-5fc2-4d6c-af3f-d3f0e41839aa",
   "metadata": {},
   "outputs": [
    {
     "name": "stderr",
     "output_type": "stream",
     "text": [
      "Updating HTML index of packages in '.Library'\n",
      "\n",
      "Making 'packages.html' ...\n",
      " done\n",
      "\n",
      "Updating HTML index of packages in '.Library'\n",
      "\n",
      "Making 'packages.html' ...\n",
      " done\n",
      "\n"
     ]
    }
   ],
   "source": [
    "install.packages('MFDFA')\n",
    "install.packages('dplyr')\n",
    "library('MFDFA')\n",
    "library('dplyr')"
   ]
  },
  {
   "cell_type": "code",
   "execution_count": 4,
   "id": "242d3640-ca9c-44f8-a369-be2295e90602",
   "metadata": {},
   "outputs": [],
   "source": [
    "df <- read.csv('train_logs.csv')\n",
    "# promijeniti? - id, activiy, down_event, up_event u factor?\n",
    "# n = dim(df)[1]\n",
    "n = 2471  # broj sudionika"
   ]
  },
  {
   "cell_type": "code",
   "execution_count": 6,
   "id": "190020e7-a916-41dc-b5f0-24b590740f32",
   "metadata": {},
   "outputs": [],
   "source": [
    "df_scores <- read.csv('train_scores.csv')"
   ]
  },
  {
   "cell_type": "code",
   "execution_count": 5,
   "id": "781d38bd-daeb-4ee6-8fda-5bcb3ca00a7c",
   "metadata": {},
   "outputs": [
    {
     "data": {
      "text/html": [
       "<table class=\"dataframe\">\n",
       "<caption>A data.frame: 8405898 × 11</caption>\n",
       "<thead>\n",
       "\t<tr><th scope=col>id</th><th scope=col>event_id</th><th scope=col>down_time</th><th scope=col>up_time</th><th scope=col>action_time</th><th scope=col>activity</th><th scope=col>down_event</th><th scope=col>up_event</th><th scope=col>text_change</th><th scope=col>cursor_position</th><th scope=col>word_count</th></tr>\n",
       "\t<tr><th scope=col>&lt;chr&gt;</th><th scope=col>&lt;int&gt;</th><th scope=col>&lt;int&gt;</th><th scope=col>&lt;int&gt;</th><th scope=col>&lt;int&gt;</th><th scope=col>&lt;chr&gt;</th><th scope=col>&lt;chr&gt;</th><th scope=col>&lt;chr&gt;</th><th scope=col>&lt;chr&gt;</th><th scope=col>&lt;int&gt;</th><th scope=col>&lt;int&gt;</th></tr>\n",
       "</thead>\n",
       "<tbody>\n",
       "\t<tr><td>001519c8</td><td> 1</td><td>  4526</td><td>  4557</td><td> 31</td><td>Nonproduction</td><td>Leftclick</td><td>Leftclick</td><td>NoChange</td><td> 0</td><td>0</td></tr>\n",
       "\t<tr><td>001519c8</td><td> 2</td><td>  4558</td><td>  4962</td><td>404</td><td>Nonproduction</td><td>Leftclick</td><td>Leftclick</td><td>NoChange</td><td> 0</td><td>0</td></tr>\n",
       "\t<tr><td>001519c8</td><td> 3</td><td>106571</td><td>106571</td><td>  0</td><td>Nonproduction</td><td>Shift    </td><td>Shift    </td><td>NoChange</td><td> 0</td><td>0</td></tr>\n",
       "\t<tr><td>001519c8</td><td> 4</td><td>106686</td><td>106777</td><td> 91</td><td>Input        </td><td>q        </td><td>q        </td><td>q       </td><td> 1</td><td>1</td></tr>\n",
       "\t<tr><td>001519c8</td><td> 5</td><td>107196</td><td>107323</td><td>127</td><td>Input        </td><td>q        </td><td>q        </td><td>q       </td><td> 2</td><td>1</td></tr>\n",
       "\t<tr><td>001519c8</td><td> 6</td><td>107296</td><td>107400</td><td>104</td><td>Input        </td><td>q        </td><td>q        </td><td>q       </td><td> 3</td><td>1</td></tr>\n",
       "\t<tr><td>001519c8</td><td> 7</td><td>107469</td><td>107596</td><td>127</td><td>Input        </td><td>q        </td><td>q        </td><td>q       </td><td> 4</td><td>1</td></tr>\n",
       "\t<tr><td>001519c8</td><td> 8</td><td>107659</td><td>107766</td><td>107</td><td>Input        </td><td>q        </td><td>q        </td><td>q       </td><td> 5</td><td>1</td></tr>\n",
       "\t<tr><td>001519c8</td><td> 9</td><td>107743</td><td>107852</td><td>109</td><td>Input        </td><td>q        </td><td>q        </td><td>q       </td><td> 6</td><td>1</td></tr>\n",
       "\t<tr><td>001519c8</td><td>10</td><td>107840</td><td>107978</td><td>138</td><td>Input        </td><td>Space    </td><td>Space    </td><td>        </td><td> 7</td><td>1</td></tr>\n",
       "\t<tr><td>001519c8</td><td>11</td><td>108008</td><td>108195</td><td>187</td><td>Input        </td><td>q        </td><td>q        </td><td>q       </td><td> 8</td><td>2</td></tr>\n",
       "\t<tr><td>001519c8</td><td>12</td><td>108104</td><td>108259</td><td>155</td><td>Input        </td><td>q        </td><td>q        </td><td>q       </td><td> 9</td><td>2</td></tr>\n",
       "\t<tr><td>001519c8</td><td>13</td><td>108229</td><td>108370</td><td>141</td><td>Input        </td><td>q        </td><td>q        </td><td>q       </td><td>10</td><td>2</td></tr>\n",
       "\t<tr><td>001519c8</td><td>14</td><td>108341</td><td>108486</td><td>145</td><td>Input        </td><td>Space    </td><td>Space    </td><td>        </td><td>11</td><td>2</td></tr>\n",
       "\t<tr><td>001519c8</td><td>15</td><td>109296</td><td>109438</td><td>142</td><td>Input        </td><td>q        </td><td>q        </td><td>q       </td><td>12</td><td>3</td></tr>\n",
       "\t<tr><td>001519c8</td><td>16</td><td>109423</td><td>109559</td><td>136</td><td>Input        </td><td>q        </td><td>q        </td><td>q       </td><td>13</td><td>3</td></tr>\n",
       "\t<tr><td>001519c8</td><td>17</td><td>109560</td><td>109729</td><td>169</td><td>Input        </td><td>q        </td><td>q        </td><td>q       </td><td>14</td><td>3</td></tr>\n",
       "\t<tr><td>001519c8</td><td>18</td><td>109826</td><td>109994</td><td>168</td><td>Input        </td><td>q        </td><td>q        </td><td>q       </td><td>15</td><td>3</td></tr>\n",
       "\t<tr><td>001519c8</td><td>19</td><td>110398</td><td>110516</td><td>118</td><td>Remove/Cut   </td><td>Backspace</td><td>Backspace</td><td>q       </td><td>14</td><td>3</td></tr>\n",
       "\t<tr><td>001519c8</td><td>20</td><td>110595</td><td>110751</td><td>156</td><td>Input        </td><td>q        </td><td>q        </td><td>q       </td><td>15</td><td>3</td></tr>\n",
       "\t<tr><td>001519c8</td><td>21</td><td>110745</td><td>110863</td><td>118</td><td>Input        </td><td>q        </td><td>q        </td><td>q       </td><td>16</td><td>3</td></tr>\n",
       "\t<tr><td>001519c8</td><td>22</td><td>110848</td><td>110989</td><td>141</td><td>Input        </td><td>Space    </td><td>Space    </td><td>        </td><td>17</td><td>3</td></tr>\n",
       "\t<tr><td>001519c8</td><td>23</td><td>111034</td><td>111140</td><td>106</td><td>Input        </td><td>q        </td><td>q        </td><td>q       </td><td>18</td><td>4</td></tr>\n",
       "\t<tr><td>001519c8</td><td>24</td><td>111174</td><td>111261</td><td> 87</td><td>Input        </td><td>q        </td><td>q        </td><td>q       </td><td>19</td><td>4</td></tr>\n",
       "\t<tr><td>001519c8</td><td>25</td><td>111310</td><td>111414</td><td>104</td><td>Input        </td><td>q        </td><td>q        </td><td>q       </td><td>20</td><td>4</td></tr>\n",
       "\t<tr><td>001519c8</td><td>26</td><td>111442</td><td>111587</td><td>145</td><td>Input        </td><td>q        </td><td>q        </td><td>q       </td><td>21</td><td>4</td></tr>\n",
       "\t<tr><td>001519c8</td><td>27</td><td>111718</td><td>111771</td><td> 53</td><td>Input        </td><td>q        </td><td>q        </td><td>q       </td><td>22</td><td>4</td></tr>\n",
       "\t<tr><td>001519c8</td><td>28</td><td>111853</td><td>111995</td><td>142</td><td>Input        </td><td>q        </td><td>q        </td><td>q       </td><td>23</td><td>4</td></tr>\n",
       "\t<tr><td>001519c8</td><td>29</td><td>111978</td><td>112122</td><td>144</td><td>Input        </td><td>Space    </td><td>Space    </td><td>        </td><td>24</td><td>4</td></tr>\n",
       "\t<tr><td>001519c8</td><td>30</td><td>112192</td><td>112323</td><td>131</td><td>Input        </td><td>q        </td><td>q        </td><td>q       </td><td>25</td><td>5</td></tr>\n",
       "\t<tr><td>⋮</td><td>⋮</td><td>⋮</td><td>⋮</td><td>⋮</td><td>⋮</td><td>⋮</td><td>⋮</td><td>⋮</td><td>⋮</td><td>⋮</td></tr>\n",
       "\t<tr><td>fff05981</td><td>3590</td><td>2028610</td><td>2028647</td><td> 37</td><td>Remove/Cut   </td><td>Backspace</td><td>Backspace</td><td>q       </td><td>1492</td><td>241</td></tr>\n",
       "\t<tr><td>fff05981</td><td>3591</td><td>2028754</td><td>2028814</td><td> 60</td><td>Remove/Cut   </td><td>Backspace</td><td>Backspace</td><td>q       </td><td>1491</td><td>241</td></tr>\n",
       "\t<tr><td>fff05981</td><td>3592</td><td>2028914</td><td>2028974</td><td> 60</td><td>Remove/Cut   </td><td>Backspace</td><td>Backspace</td><td>q       </td><td>1490</td><td>240</td></tr>\n",
       "\t<tr><td>fff05981</td><td>3593</td><td>2030218</td><td>2030390</td><td>172</td><td>Input        </td><td>q        </td><td>q        </td><td>q       </td><td>1491</td><td>241</td></tr>\n",
       "\t<tr><td>fff05981</td><td>3594</td><td>2030426</td><td>2030494</td><td> 68</td><td>Input        </td><td>q        </td><td>q        </td><td>q       </td><td>1492</td><td>241</td></tr>\n",
       "\t<tr><td>fff05981</td><td>3595</td><td>2030978</td><td>2031054</td><td> 76</td><td>Remove/Cut   </td><td>Backspace</td><td>Backspace</td><td>q       </td><td>1491</td><td>241</td></tr>\n",
       "\t<tr><td>fff05981</td><td>3596</td><td>2031154</td><td>2031214</td><td> 60</td><td>Remove/Cut   </td><td>Backspace</td><td>Backspace</td><td>q       </td><td>1490</td><td>240</td></tr>\n",
       "\t<tr><td>fff05981</td><td>3597</td><td>2031322</td><td>2031382</td><td> 60</td><td>Remove/Cut   </td><td>Backspace</td><td>Backspace</td><td>        </td><td>1489</td><td>240</td></tr>\n",
       "\t<tr><td>fff05981</td><td>3598</td><td>2039011</td><td>2039118</td><td>107</td><td>Input        </td><td>Space    </td><td>Space    </td><td>        </td><td>1490</td><td>240</td></tr>\n",
       "\t<tr><td>fff05981</td><td>3599</td><td>2039162</td><td>2039302</td><td>140</td><td>Input        </td><td>q        </td><td>q        </td><td>q       </td><td>1491</td><td>241</td></tr>\n",
       "\t<tr><td>fff05981</td><td>3600</td><td>2039274</td><td>2039390</td><td>116</td><td>Input        </td><td>q        </td><td>q        </td><td>q       </td><td>1492</td><td>241</td></tr>\n",
       "\t<tr><td>fff05981</td><td>3601</td><td>2039410</td><td>2039534</td><td>124</td><td>Input        </td><td>q        </td><td>q        </td><td>q       </td><td>1493</td><td>241</td></tr>\n",
       "\t<tr><td>fff05981</td><td>3602</td><td>2039610</td><td>2039670</td><td> 60</td><td>Input        </td><td>Space    </td><td>Space    </td><td>        </td><td>1494</td><td>241</td></tr>\n",
       "\t<tr><td>fff05981</td><td>3603</td><td>2041554</td><td>2041622</td><td> 68</td><td>Remove/Cut   </td><td>Backspace</td><td>Backspace</td><td>        </td><td>1493</td><td>241</td></tr>\n",
       "\t<tr><td>fff05981</td><td>3604</td><td>2041762</td><td>2041806</td><td> 44</td><td>Remove/Cut   </td><td>Backspace</td><td>Backspace</td><td>q       </td><td>1492</td><td>241</td></tr>\n",
       "\t<tr><td>fff05981</td><td>3605</td><td>2041937</td><td>2041950</td><td> 13</td><td>Remove/Cut   </td><td>Backspace</td><td>Backspace</td><td>q       </td><td>1491</td><td>241</td></tr>\n",
       "\t<tr><td>fff05981</td><td>3606</td><td>2042066</td><td>2042110</td><td> 44</td><td>Remove/Cut   </td><td>Backspace</td><td>Backspace</td><td>q       </td><td>1490</td><td>240</td></tr>\n",
       "\t<tr><td>fff05981</td><td>3607</td><td>2042442</td><td>2042494</td><td> 52</td><td>Remove/Cut   </td><td>Backspace</td><td>Backspace</td><td>        </td><td>1489</td><td>240</td></tr>\n",
       "\t<tr><td>fff05981</td><td>3608</td><td>2055855</td><td>2055976</td><td>121</td><td>Nonproduction</td><td>Leftclick</td><td>Leftclick</td><td>NoChange</td><td>1435</td><td>240</td></tr>\n",
       "\t<tr><td>fff05981</td><td>3609</td><td>2057097</td><td>2057176</td><td> 79</td><td>Input        </td><td>,        </td><td>,        </td><td>,       </td><td>1436</td><td>240</td></tr>\n",
       "\t<tr><td>fff05981</td><td>3610</td><td>2058145</td><td>2058261</td><td>116</td><td>Nonproduction</td><td>Leftclick</td><td>Leftclick</td><td>NoChange</td><td>1490</td><td>240</td></tr>\n",
       "\t<tr><td>fff05981</td><td>3611</td><td>2058353</td><td>2058413</td><td> 60</td><td>Input        </td><td>.        </td><td>.        </td><td>.       </td><td>1491</td><td>240</td></tr>\n",
       "\t<tr><td>fff05981</td><td>3612</td><td>2060716</td><td>2061331</td><td>615</td><td>Nonproduction</td><td>Leftclick</td><td>Leftclick</td><td>NoChange</td><td>1268</td><td>240</td></tr>\n",
       "\t<tr><td>fff05981</td><td>3613</td><td>2062125</td><td>2062125</td><td>  0</td><td>Nonproduction</td><td>Shift    </td><td>Shift    </td><td>NoChange</td><td>1268</td><td>240</td></tr>\n",
       "\t<tr><td>fff05981</td><td>3614</td><td>2062417</td><td>2062555</td><td>138</td><td><span style=white-space:pre-wrap>Replace      </span></td><td><span style=white-space:pre-wrap>q        </span></td><td><span style=white-space:pre-wrap>q        </span></td><td><span style=white-space:pre-wrap>q =&gt; q  </span></td><td>1268</td><td>240</td></tr>\n",
       "\t<tr><td>fff05981</td><td>3615</td><td>2063944</td><td>2064440</td><td>496</td><td>Nonproduction</td><td>Leftclick</td><td>Leftclick</td><td>NoChange</td><td>1031</td><td>240</td></tr>\n",
       "\t<tr><td>fff05981</td><td>3616</td><td>2064497</td><td>2064497</td><td>  0</td><td>Nonproduction</td><td>Shift    </td><td>Shift    </td><td>NoChange</td><td>1031</td><td>240</td></tr>\n",
       "\t<tr><td>fff05981</td><td>3617</td><td>2064657</td><td>2064765</td><td>108</td><td><span style=white-space:pre-wrap>Replace      </span></td><td><span style=white-space:pre-wrap>q        </span></td><td><span style=white-space:pre-wrap>q        </span></td><td><span style=white-space:pre-wrap>q =&gt; q  </span></td><td>1031</td><td>240</td></tr>\n",
       "\t<tr><td>fff05981</td><td>3618</td><td>2069186</td><td>2069259</td><td> 73</td><td>Nonproduction</td><td>Leftclick</td><td>Leftclick</td><td>NoChange</td><td>1028</td><td>240</td></tr>\n",
       "\t<tr><td>fff05981</td><td>3619</td><td>2070065</td><td>2070133</td><td> 68</td><td>Input        </td><td>.        </td><td>.        </td><td>.       </td><td>1029</td><td>240</td></tr>\n",
       "</tbody>\n",
       "</table>\n"
      ],
      "text/latex": [
       "A data.frame: 8405898 × 11\n",
       "\\begin{tabular}{lllllllllll}\n",
       " id & event\\_id & down\\_time & up\\_time & action\\_time & activity & down\\_event & up\\_event & text\\_change & cursor\\_position & word\\_count\\\\\n",
       " <chr> & <int> & <int> & <int> & <int> & <chr> & <chr> & <chr> & <chr> & <int> & <int>\\\\\n",
       "\\hline\n",
       "\t 001519c8 &  1 &   4526 &   4557 &  31 & Nonproduction & Leftclick & Leftclick & NoChange &  0 & 0\\\\\n",
       "\t 001519c8 &  2 &   4558 &   4962 & 404 & Nonproduction & Leftclick & Leftclick & NoChange &  0 & 0\\\\\n",
       "\t 001519c8 &  3 & 106571 & 106571 &   0 & Nonproduction & Shift     & Shift     & NoChange &  0 & 0\\\\\n",
       "\t 001519c8 &  4 & 106686 & 106777 &  91 & Input         & q         & q         & q        &  1 & 1\\\\\n",
       "\t 001519c8 &  5 & 107196 & 107323 & 127 & Input         & q         & q         & q        &  2 & 1\\\\\n",
       "\t 001519c8 &  6 & 107296 & 107400 & 104 & Input         & q         & q         & q        &  3 & 1\\\\\n",
       "\t 001519c8 &  7 & 107469 & 107596 & 127 & Input         & q         & q         & q        &  4 & 1\\\\\n",
       "\t 001519c8 &  8 & 107659 & 107766 & 107 & Input         & q         & q         & q        &  5 & 1\\\\\n",
       "\t 001519c8 &  9 & 107743 & 107852 & 109 & Input         & q         & q         & q        &  6 & 1\\\\\n",
       "\t 001519c8 & 10 & 107840 & 107978 & 138 & Input         & Space     & Space     &          &  7 & 1\\\\\n",
       "\t 001519c8 & 11 & 108008 & 108195 & 187 & Input         & q         & q         & q        &  8 & 2\\\\\n",
       "\t 001519c8 & 12 & 108104 & 108259 & 155 & Input         & q         & q         & q        &  9 & 2\\\\\n",
       "\t 001519c8 & 13 & 108229 & 108370 & 141 & Input         & q         & q         & q        & 10 & 2\\\\\n",
       "\t 001519c8 & 14 & 108341 & 108486 & 145 & Input         & Space     & Space     &          & 11 & 2\\\\\n",
       "\t 001519c8 & 15 & 109296 & 109438 & 142 & Input         & q         & q         & q        & 12 & 3\\\\\n",
       "\t 001519c8 & 16 & 109423 & 109559 & 136 & Input         & q         & q         & q        & 13 & 3\\\\\n",
       "\t 001519c8 & 17 & 109560 & 109729 & 169 & Input         & q         & q         & q        & 14 & 3\\\\\n",
       "\t 001519c8 & 18 & 109826 & 109994 & 168 & Input         & q         & q         & q        & 15 & 3\\\\\n",
       "\t 001519c8 & 19 & 110398 & 110516 & 118 & Remove/Cut    & Backspace & Backspace & q        & 14 & 3\\\\\n",
       "\t 001519c8 & 20 & 110595 & 110751 & 156 & Input         & q         & q         & q        & 15 & 3\\\\\n",
       "\t 001519c8 & 21 & 110745 & 110863 & 118 & Input         & q         & q         & q        & 16 & 3\\\\\n",
       "\t 001519c8 & 22 & 110848 & 110989 & 141 & Input         & Space     & Space     &          & 17 & 3\\\\\n",
       "\t 001519c8 & 23 & 111034 & 111140 & 106 & Input         & q         & q         & q        & 18 & 4\\\\\n",
       "\t 001519c8 & 24 & 111174 & 111261 &  87 & Input         & q         & q         & q        & 19 & 4\\\\\n",
       "\t 001519c8 & 25 & 111310 & 111414 & 104 & Input         & q         & q         & q        & 20 & 4\\\\\n",
       "\t 001519c8 & 26 & 111442 & 111587 & 145 & Input         & q         & q         & q        & 21 & 4\\\\\n",
       "\t 001519c8 & 27 & 111718 & 111771 &  53 & Input         & q         & q         & q        & 22 & 4\\\\\n",
       "\t 001519c8 & 28 & 111853 & 111995 & 142 & Input         & q         & q         & q        & 23 & 4\\\\\n",
       "\t 001519c8 & 29 & 111978 & 112122 & 144 & Input         & Space     & Space     &          & 24 & 4\\\\\n",
       "\t 001519c8 & 30 & 112192 & 112323 & 131 & Input         & q         & q         & q        & 25 & 5\\\\\n",
       "\t ⋮ & ⋮ & ⋮ & ⋮ & ⋮ & ⋮ & ⋮ & ⋮ & ⋮ & ⋮ & ⋮\\\\\n",
       "\t fff05981 & 3590 & 2028610 & 2028647 &  37 & Remove/Cut    & Backspace & Backspace & q        & 1492 & 241\\\\\n",
       "\t fff05981 & 3591 & 2028754 & 2028814 &  60 & Remove/Cut    & Backspace & Backspace & q        & 1491 & 241\\\\\n",
       "\t fff05981 & 3592 & 2028914 & 2028974 &  60 & Remove/Cut    & Backspace & Backspace & q        & 1490 & 240\\\\\n",
       "\t fff05981 & 3593 & 2030218 & 2030390 & 172 & Input         & q         & q         & q        & 1491 & 241\\\\\n",
       "\t fff05981 & 3594 & 2030426 & 2030494 &  68 & Input         & q         & q         & q        & 1492 & 241\\\\\n",
       "\t fff05981 & 3595 & 2030978 & 2031054 &  76 & Remove/Cut    & Backspace & Backspace & q        & 1491 & 241\\\\\n",
       "\t fff05981 & 3596 & 2031154 & 2031214 &  60 & Remove/Cut    & Backspace & Backspace & q        & 1490 & 240\\\\\n",
       "\t fff05981 & 3597 & 2031322 & 2031382 &  60 & Remove/Cut    & Backspace & Backspace &          & 1489 & 240\\\\\n",
       "\t fff05981 & 3598 & 2039011 & 2039118 & 107 & Input         & Space     & Space     &          & 1490 & 240\\\\\n",
       "\t fff05981 & 3599 & 2039162 & 2039302 & 140 & Input         & q         & q         & q        & 1491 & 241\\\\\n",
       "\t fff05981 & 3600 & 2039274 & 2039390 & 116 & Input         & q         & q         & q        & 1492 & 241\\\\\n",
       "\t fff05981 & 3601 & 2039410 & 2039534 & 124 & Input         & q         & q         & q        & 1493 & 241\\\\\n",
       "\t fff05981 & 3602 & 2039610 & 2039670 &  60 & Input         & Space     & Space     &          & 1494 & 241\\\\\n",
       "\t fff05981 & 3603 & 2041554 & 2041622 &  68 & Remove/Cut    & Backspace & Backspace &          & 1493 & 241\\\\\n",
       "\t fff05981 & 3604 & 2041762 & 2041806 &  44 & Remove/Cut    & Backspace & Backspace & q        & 1492 & 241\\\\\n",
       "\t fff05981 & 3605 & 2041937 & 2041950 &  13 & Remove/Cut    & Backspace & Backspace & q        & 1491 & 241\\\\\n",
       "\t fff05981 & 3606 & 2042066 & 2042110 &  44 & Remove/Cut    & Backspace & Backspace & q        & 1490 & 240\\\\\n",
       "\t fff05981 & 3607 & 2042442 & 2042494 &  52 & Remove/Cut    & Backspace & Backspace &          & 1489 & 240\\\\\n",
       "\t fff05981 & 3608 & 2055855 & 2055976 & 121 & Nonproduction & Leftclick & Leftclick & NoChange & 1435 & 240\\\\\n",
       "\t fff05981 & 3609 & 2057097 & 2057176 &  79 & Input         & ,         & ,         & ,        & 1436 & 240\\\\\n",
       "\t fff05981 & 3610 & 2058145 & 2058261 & 116 & Nonproduction & Leftclick & Leftclick & NoChange & 1490 & 240\\\\\n",
       "\t fff05981 & 3611 & 2058353 & 2058413 &  60 & Input         & .         & .         & .        & 1491 & 240\\\\\n",
       "\t fff05981 & 3612 & 2060716 & 2061331 & 615 & Nonproduction & Leftclick & Leftclick & NoChange & 1268 & 240\\\\\n",
       "\t fff05981 & 3613 & 2062125 & 2062125 &   0 & Nonproduction & Shift     & Shift     & NoChange & 1268 & 240\\\\\n",
       "\t fff05981 & 3614 & 2062417 & 2062555 & 138 & Replace       & q         & q         & q => q   & 1268 & 240\\\\\n",
       "\t fff05981 & 3615 & 2063944 & 2064440 & 496 & Nonproduction & Leftclick & Leftclick & NoChange & 1031 & 240\\\\\n",
       "\t fff05981 & 3616 & 2064497 & 2064497 &   0 & Nonproduction & Shift     & Shift     & NoChange & 1031 & 240\\\\\n",
       "\t fff05981 & 3617 & 2064657 & 2064765 & 108 & Replace       & q         & q         & q => q   & 1031 & 240\\\\\n",
       "\t fff05981 & 3618 & 2069186 & 2069259 &  73 & Nonproduction & Leftclick & Leftclick & NoChange & 1028 & 240\\\\\n",
       "\t fff05981 & 3619 & 2070065 & 2070133 &  68 & Input         & .         & .         & .        & 1029 & 240\\\\\n",
       "\\end{tabular}\n"
      ],
      "text/markdown": [
       "\n",
       "A data.frame: 8405898 × 11\n",
       "\n",
       "| id &lt;chr&gt; | event_id &lt;int&gt; | down_time &lt;int&gt; | up_time &lt;int&gt; | action_time &lt;int&gt; | activity &lt;chr&gt; | down_event &lt;chr&gt; | up_event &lt;chr&gt; | text_change &lt;chr&gt; | cursor_position &lt;int&gt; | word_count &lt;int&gt; |\n",
       "|---|---|---|---|---|---|---|---|---|---|---|\n",
       "| 001519c8 |  1 |   4526 |   4557 |  31 | Nonproduction | Leftclick | Leftclick | NoChange |  0 | 0 |\n",
       "| 001519c8 |  2 |   4558 |   4962 | 404 | Nonproduction | Leftclick | Leftclick | NoChange |  0 | 0 |\n",
       "| 001519c8 |  3 | 106571 | 106571 |   0 | Nonproduction | Shift     | Shift     | NoChange |  0 | 0 |\n",
       "| 001519c8 |  4 | 106686 | 106777 |  91 | Input         | q         | q         | q        |  1 | 1 |\n",
       "| 001519c8 |  5 | 107196 | 107323 | 127 | Input         | q         | q         | q        |  2 | 1 |\n",
       "| 001519c8 |  6 | 107296 | 107400 | 104 | Input         | q         | q         | q        |  3 | 1 |\n",
       "| 001519c8 |  7 | 107469 | 107596 | 127 | Input         | q         | q         | q        |  4 | 1 |\n",
       "| 001519c8 |  8 | 107659 | 107766 | 107 | Input         | q         | q         | q        |  5 | 1 |\n",
       "| 001519c8 |  9 | 107743 | 107852 | 109 | Input         | q         | q         | q        |  6 | 1 |\n",
       "| 001519c8 | 10 | 107840 | 107978 | 138 | Input         | Space     | Space     | <!----> |  7 | 1 |\n",
       "| 001519c8 | 11 | 108008 | 108195 | 187 | Input         | q         | q         | q        |  8 | 2 |\n",
       "| 001519c8 | 12 | 108104 | 108259 | 155 | Input         | q         | q         | q        |  9 | 2 |\n",
       "| 001519c8 | 13 | 108229 | 108370 | 141 | Input         | q         | q         | q        | 10 | 2 |\n",
       "| 001519c8 | 14 | 108341 | 108486 | 145 | Input         | Space     | Space     | <!----> | 11 | 2 |\n",
       "| 001519c8 | 15 | 109296 | 109438 | 142 | Input         | q         | q         | q        | 12 | 3 |\n",
       "| 001519c8 | 16 | 109423 | 109559 | 136 | Input         | q         | q         | q        | 13 | 3 |\n",
       "| 001519c8 | 17 | 109560 | 109729 | 169 | Input         | q         | q         | q        | 14 | 3 |\n",
       "| 001519c8 | 18 | 109826 | 109994 | 168 | Input         | q         | q         | q        | 15 | 3 |\n",
       "| 001519c8 | 19 | 110398 | 110516 | 118 | Remove/Cut    | Backspace | Backspace | q        | 14 | 3 |\n",
       "| 001519c8 | 20 | 110595 | 110751 | 156 | Input         | q         | q         | q        | 15 | 3 |\n",
       "| 001519c8 | 21 | 110745 | 110863 | 118 | Input         | q         | q         | q        | 16 | 3 |\n",
       "| 001519c8 | 22 | 110848 | 110989 | 141 | Input         | Space     | Space     | <!----> | 17 | 3 |\n",
       "| 001519c8 | 23 | 111034 | 111140 | 106 | Input         | q         | q         | q        | 18 | 4 |\n",
       "| 001519c8 | 24 | 111174 | 111261 |  87 | Input         | q         | q         | q        | 19 | 4 |\n",
       "| 001519c8 | 25 | 111310 | 111414 | 104 | Input         | q         | q         | q        | 20 | 4 |\n",
       "| 001519c8 | 26 | 111442 | 111587 | 145 | Input         | q         | q         | q        | 21 | 4 |\n",
       "| 001519c8 | 27 | 111718 | 111771 |  53 | Input         | q         | q         | q        | 22 | 4 |\n",
       "| 001519c8 | 28 | 111853 | 111995 | 142 | Input         | q         | q         | q        | 23 | 4 |\n",
       "| 001519c8 | 29 | 111978 | 112122 | 144 | Input         | Space     | Space     | <!----> | 24 | 4 |\n",
       "| 001519c8 | 30 | 112192 | 112323 | 131 | Input         | q         | q         | q        | 25 | 5 |\n",
       "| ⋮ | ⋮ | ⋮ | ⋮ | ⋮ | ⋮ | ⋮ | ⋮ | ⋮ | ⋮ | ⋮ |\n",
       "| fff05981 | 3590 | 2028610 | 2028647 |  37 | Remove/Cut    | Backspace | Backspace | q        | 1492 | 241 |\n",
       "| fff05981 | 3591 | 2028754 | 2028814 |  60 | Remove/Cut    | Backspace | Backspace | q        | 1491 | 241 |\n",
       "| fff05981 | 3592 | 2028914 | 2028974 |  60 | Remove/Cut    | Backspace | Backspace | q        | 1490 | 240 |\n",
       "| fff05981 | 3593 | 2030218 | 2030390 | 172 | Input         | q         | q         | q        | 1491 | 241 |\n",
       "| fff05981 | 3594 | 2030426 | 2030494 |  68 | Input         | q         | q         | q        | 1492 | 241 |\n",
       "| fff05981 | 3595 | 2030978 | 2031054 |  76 | Remove/Cut    | Backspace | Backspace | q        | 1491 | 241 |\n",
       "| fff05981 | 3596 | 2031154 | 2031214 |  60 | Remove/Cut    | Backspace | Backspace | q        | 1490 | 240 |\n",
       "| fff05981 | 3597 | 2031322 | 2031382 |  60 | Remove/Cut    | Backspace | Backspace | <!----> | 1489 | 240 |\n",
       "| fff05981 | 3598 | 2039011 | 2039118 | 107 | Input         | Space     | Space     | <!----> | 1490 | 240 |\n",
       "| fff05981 | 3599 | 2039162 | 2039302 | 140 | Input         | q         | q         | q        | 1491 | 241 |\n",
       "| fff05981 | 3600 | 2039274 | 2039390 | 116 | Input         | q         | q         | q        | 1492 | 241 |\n",
       "| fff05981 | 3601 | 2039410 | 2039534 | 124 | Input         | q         | q         | q        | 1493 | 241 |\n",
       "| fff05981 | 3602 | 2039610 | 2039670 |  60 | Input         | Space     | Space     | <!----> | 1494 | 241 |\n",
       "| fff05981 | 3603 | 2041554 | 2041622 |  68 | Remove/Cut    | Backspace | Backspace | <!----> | 1493 | 241 |\n",
       "| fff05981 | 3604 | 2041762 | 2041806 |  44 | Remove/Cut    | Backspace | Backspace | q        | 1492 | 241 |\n",
       "| fff05981 | 3605 | 2041937 | 2041950 |  13 | Remove/Cut    | Backspace | Backspace | q        | 1491 | 241 |\n",
       "| fff05981 | 3606 | 2042066 | 2042110 |  44 | Remove/Cut    | Backspace | Backspace | q        | 1490 | 240 |\n",
       "| fff05981 | 3607 | 2042442 | 2042494 |  52 | Remove/Cut    | Backspace | Backspace | <!----> | 1489 | 240 |\n",
       "| fff05981 | 3608 | 2055855 | 2055976 | 121 | Nonproduction | Leftclick | Leftclick | NoChange | 1435 | 240 |\n",
       "| fff05981 | 3609 | 2057097 | 2057176 |  79 | Input         | ,         | ,         | ,        | 1436 | 240 |\n",
       "| fff05981 | 3610 | 2058145 | 2058261 | 116 | Nonproduction | Leftclick | Leftclick | NoChange | 1490 | 240 |\n",
       "| fff05981 | 3611 | 2058353 | 2058413 |  60 | Input         | .         | .         | .        | 1491 | 240 |\n",
       "| fff05981 | 3612 | 2060716 | 2061331 | 615 | Nonproduction | Leftclick | Leftclick | NoChange | 1268 | 240 |\n",
       "| fff05981 | 3613 | 2062125 | 2062125 |   0 | Nonproduction | Shift     | Shift     | NoChange | 1268 | 240 |\n",
       "| fff05981 | 3614 | 2062417 | 2062555 | 138 | Replace       | q         | q         | q =&gt; q   | 1268 | 240 |\n",
       "| fff05981 | 3615 | 2063944 | 2064440 | 496 | Nonproduction | Leftclick | Leftclick | NoChange | 1031 | 240 |\n",
       "| fff05981 | 3616 | 2064497 | 2064497 |   0 | Nonproduction | Shift     | Shift     | NoChange | 1031 | 240 |\n",
       "| fff05981 | 3617 | 2064657 | 2064765 | 108 | Replace       | q         | q         | q =&gt; q   | 1031 | 240 |\n",
       "| fff05981 | 3618 | 2069186 | 2069259 |  73 | Nonproduction | Leftclick | Leftclick | NoChange | 1028 | 240 |\n",
       "| fff05981 | 3619 | 2070065 | 2070133 |  68 | Input         | .         | .         | .        | 1029 | 240 |\n",
       "\n"
      ],
      "text/plain": [
       "        id       event_id down_time up_time action_time activity     \n",
       "1       001519c8  1         4526      4557   31         Nonproduction\n",
       "2       001519c8  2         4558      4962  404         Nonproduction\n",
       "3       001519c8  3       106571    106571    0         Nonproduction\n",
       "4       001519c8  4       106686    106777   91         Input        \n",
       "5       001519c8  5       107196    107323  127         Input        \n",
       "6       001519c8  6       107296    107400  104         Input        \n",
       "7       001519c8  7       107469    107596  127         Input        \n",
       "8       001519c8  8       107659    107766  107         Input        \n",
       "9       001519c8  9       107743    107852  109         Input        \n",
       "10      001519c8 10       107840    107978  138         Input        \n",
       "11      001519c8 11       108008    108195  187         Input        \n",
       "12      001519c8 12       108104    108259  155         Input        \n",
       "13      001519c8 13       108229    108370  141         Input        \n",
       "14      001519c8 14       108341    108486  145         Input        \n",
       "15      001519c8 15       109296    109438  142         Input        \n",
       "16      001519c8 16       109423    109559  136         Input        \n",
       "17      001519c8 17       109560    109729  169         Input        \n",
       "18      001519c8 18       109826    109994  168         Input        \n",
       "19      001519c8 19       110398    110516  118         Remove/Cut   \n",
       "20      001519c8 20       110595    110751  156         Input        \n",
       "21      001519c8 21       110745    110863  118         Input        \n",
       "22      001519c8 22       110848    110989  141         Input        \n",
       "23      001519c8 23       111034    111140  106         Input        \n",
       "24      001519c8 24       111174    111261   87         Input        \n",
       "25      001519c8 25       111310    111414  104         Input        \n",
       "26      001519c8 26       111442    111587  145         Input        \n",
       "27      001519c8 27       111718    111771   53         Input        \n",
       "28      001519c8 28       111853    111995  142         Input        \n",
       "29      001519c8 29       111978    112122  144         Input        \n",
       "30      001519c8 30       112192    112323  131         Input        \n",
       "⋮       ⋮        ⋮        ⋮         ⋮       ⋮           ⋮            \n",
       "8405869 fff05981 3590     2028610   2028647  37         Remove/Cut   \n",
       "8405870 fff05981 3591     2028754   2028814  60         Remove/Cut   \n",
       "8405871 fff05981 3592     2028914   2028974  60         Remove/Cut   \n",
       "8405872 fff05981 3593     2030218   2030390 172         Input        \n",
       "8405873 fff05981 3594     2030426   2030494  68         Input        \n",
       "8405874 fff05981 3595     2030978   2031054  76         Remove/Cut   \n",
       "8405875 fff05981 3596     2031154   2031214  60         Remove/Cut   \n",
       "8405876 fff05981 3597     2031322   2031382  60         Remove/Cut   \n",
       "8405877 fff05981 3598     2039011   2039118 107         Input        \n",
       "8405878 fff05981 3599     2039162   2039302 140         Input        \n",
       "8405879 fff05981 3600     2039274   2039390 116         Input        \n",
       "8405880 fff05981 3601     2039410   2039534 124         Input        \n",
       "8405881 fff05981 3602     2039610   2039670  60         Input        \n",
       "8405882 fff05981 3603     2041554   2041622  68         Remove/Cut   \n",
       "8405883 fff05981 3604     2041762   2041806  44         Remove/Cut   \n",
       "8405884 fff05981 3605     2041937   2041950  13         Remove/Cut   \n",
       "8405885 fff05981 3606     2042066   2042110  44         Remove/Cut   \n",
       "8405886 fff05981 3607     2042442   2042494  52         Remove/Cut   \n",
       "8405887 fff05981 3608     2055855   2055976 121         Nonproduction\n",
       "8405888 fff05981 3609     2057097   2057176  79         Input        \n",
       "8405889 fff05981 3610     2058145   2058261 116         Nonproduction\n",
       "8405890 fff05981 3611     2058353   2058413  60         Input        \n",
       "8405891 fff05981 3612     2060716   2061331 615         Nonproduction\n",
       "8405892 fff05981 3613     2062125   2062125   0         Nonproduction\n",
       "8405893 fff05981 3614     2062417   2062555 138         Replace      \n",
       "8405894 fff05981 3615     2063944   2064440 496         Nonproduction\n",
       "8405895 fff05981 3616     2064497   2064497   0         Nonproduction\n",
       "8405896 fff05981 3617     2064657   2064765 108         Replace      \n",
       "8405897 fff05981 3618     2069186   2069259  73         Nonproduction\n",
       "8405898 fff05981 3619     2070065   2070133  68         Input        \n",
       "        down_event up_event  text_change cursor_position word_count\n",
       "1       Leftclick  Leftclick NoChange     0              0         \n",
       "2       Leftclick  Leftclick NoChange     0              0         \n",
       "3       Shift      Shift     NoChange     0              0         \n",
       "4       q          q         q            1              1         \n",
       "5       q          q         q            2              1         \n",
       "6       q          q         q            3              1         \n",
       "7       q          q         q            4              1         \n",
       "8       q          q         q            5              1         \n",
       "9       q          q         q            6              1         \n",
       "10      Space      Space                  7              1         \n",
       "11      q          q         q            8              2         \n",
       "12      q          q         q            9              2         \n",
       "13      q          q         q           10              2         \n",
       "14      Space      Space                 11              2         \n",
       "15      q          q         q           12              3         \n",
       "16      q          q         q           13              3         \n",
       "17      q          q         q           14              3         \n",
       "18      q          q         q           15              3         \n",
       "19      Backspace  Backspace q           14              3         \n",
       "20      q          q         q           15              3         \n",
       "21      q          q         q           16              3         \n",
       "22      Space      Space                 17              3         \n",
       "23      q          q         q           18              4         \n",
       "24      q          q         q           19              4         \n",
       "25      q          q         q           20              4         \n",
       "26      q          q         q           21              4         \n",
       "27      q          q         q           22              4         \n",
       "28      q          q         q           23              4         \n",
       "29      Space      Space                 24              4         \n",
       "30      q          q         q           25              5         \n",
       "⋮       ⋮          ⋮         ⋮           ⋮               ⋮         \n",
       "8405869 Backspace  Backspace q           1492            241       \n",
       "8405870 Backspace  Backspace q           1491            241       \n",
       "8405871 Backspace  Backspace q           1490            240       \n",
       "8405872 q          q         q           1491            241       \n",
       "8405873 q          q         q           1492            241       \n",
       "8405874 Backspace  Backspace q           1491            241       \n",
       "8405875 Backspace  Backspace q           1490            240       \n",
       "8405876 Backspace  Backspace             1489            240       \n",
       "8405877 Space      Space                 1490            240       \n",
       "8405878 q          q         q           1491            241       \n",
       "8405879 q          q         q           1492            241       \n",
       "8405880 q          q         q           1493            241       \n",
       "8405881 Space      Space                 1494            241       \n",
       "8405882 Backspace  Backspace             1493            241       \n",
       "8405883 Backspace  Backspace q           1492            241       \n",
       "8405884 Backspace  Backspace q           1491            241       \n",
       "8405885 Backspace  Backspace q           1490            240       \n",
       "8405886 Backspace  Backspace             1489            240       \n",
       "8405887 Leftclick  Leftclick NoChange    1435            240       \n",
       "8405888 ,          ,         ,           1436            240       \n",
       "8405889 Leftclick  Leftclick NoChange    1490            240       \n",
       "8405890 .          .         .           1491            240       \n",
       "8405891 Leftclick  Leftclick NoChange    1268            240       \n",
       "8405892 Shift      Shift     NoChange    1268            240       \n",
       "8405893 q          q         q => q      1268            240       \n",
       "8405894 Leftclick  Leftclick NoChange    1031            240       \n",
       "8405895 Shift      Shift     NoChange    1031            240       \n",
       "8405896 q          q         q => q      1031            240       \n",
       "8405897 Leftclick  Leftclick NoChange    1028            240       \n",
       "8405898 .          .         .           1029            240       "
      ]
     },
     "metadata": {},
     "output_type": "display_data"
    }
   ],
   "source": [
    "df"
   ]
  },
  {
   "cell_type": "code",
   "execution_count": 22,
   "id": "9280000b-56f5-4adc-b108-cb3b44a386c8",
   "metadata": {},
   "outputs": [
    {
     "name": "stderr",
     "output_type": "stream",
     "text": [
      "Warning message in png(\"plot.png\"):\n",
      "“failed to load cairo DLL”\n"
     ]
    },
    {
     "ename": "ERROR",
     "evalue": "Error in value[[3L]](cond): no active device and default getOption(\"device\") is invalid\n",
     "output_type": "error",
     "traceback": [
      "Error in value[[3L]](cond): no active device and default getOption(\"device\") is invalid\nTraceback:\n"
     ]
    },
    {
     "data": {
      "text/plain": [
       "plot without title"
      ]
     },
     "metadata": {
      "image/png": {
       "height": 420,
       "width": 420
      }
     },
     "output_type": "display_data"
    }
   ],
   "source": [
    "png('plot.png')\n",
    "plot(1:2471, df_scores$score, 's')"
   ]
  },
  {
   "cell_type": "code",
   "execution_count": 14,
   "id": "abea91aa-900f-440f-89be-0f937001f941",
   "metadata": {},
   "outputs": [
    {
     "data": {
      "text/html": [
       "8405898"
      ],
      "text/latex": [
       "8405898"
      ],
      "text/markdown": [
       "8405898"
      ],
      "text/plain": [
       "[1] 8405898"
      ]
     },
     "metadata": {},
     "output_type": "display_data"
    }
   ],
   "source": [
    "dim(df)[1]"
   ]
  },
  {
   "cell_type": "code",
   "execution_count": 18,
   "id": "734194a5-d6c9-4fd9-b7b1-f27c258c4e4d",
   "metadata": {},
   "outputs": [
    {
     "data": {
      "text/html": [
       "<style>\n",
       ".list-inline {list-style: none; margin:0; padding: 0}\n",
       ".list-inline>li {display: inline-block}\n",
       ".list-inline>li:not(:last-child)::after {content: \"\\00b7\"; padding: 0 .5ex}\n",
       "</style>\n",
       "<ol class=list-inline><li>2471</li><li>2</li></ol>\n"
      ],
      "text/latex": [
       "\\begin{enumerate*}\n",
       "\\item 2471\n",
       "\\item 2\n",
       "\\end{enumerate*}\n"
      ],
      "text/markdown": [
       "1. 2471\n",
       "2. 2\n",
       "\n",
       "\n"
      ],
      "text/plain": [
       "[1] 2471    2"
      ]
     },
     "metadata": {},
     "output_type": "display_data"
    }
   ],
   "source": [
    "dim(df_scores)"
   ]
  },
  {
   "cell_type": "code",
   "execution_count": null,
   "id": "3de48125-ae53-40df-864e-5dda8315cdb5",
   "metadata": {},
   "outputs": [],
   "source": []
  }
 ],
 "metadata": {
  "kernelspec": {
   "display_name": "R",
   "language": "R",
   "name": "ir"
  },
  "language_info": {
   "codemirror_mode": "r",
   "file_extension": ".r",
   "mimetype": "text/x-r-source",
   "name": "R",
   "pygments_lexer": "r",
   "version": "4.3.1"
  }
 },
 "nbformat": 4,
 "nbformat_minor": 5
}
